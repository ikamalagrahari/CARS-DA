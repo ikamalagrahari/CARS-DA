{
  "nbformat": 4,
  "nbformat_minor": 0,
  "metadata": {
    "colab": {
      "provenance": []
    },
    "kernelspec": {
      "name": "python3",
      "display_name": "Python 3"
    },
    "language_info": {
      "name": "python"
    }
  },
  "cells": [
    {
      "cell_type": "code",
      "source": [
        "# create a bank folder and add 2 files in it\n",
        "# credit.py and debit.py\n",
        "# add 1 print statement in each"
      ],
      "metadata": {
        "id": "m2NPwjFNnBKr"
      },
      "execution_count": null,
      "outputs": []
    },
    {
      "cell_type": "code",
      "execution_count": null,
      "metadata": {
        "id": "e4PKOeK9Vhd5"
      },
      "outputs": [],
      "source": [
        "from bank import debit"
      ]
    },
    {
      "cell_type": "code",
      "source": [
        "# access \"a\" from credit.py\n",
        "from bank.credit import a\n",
        "print(a)"
      ],
      "metadata": {
        "id": "nECc8uxOcjSA"
      },
      "execution_count": null,
      "outputs": []
    },
    {
      "cell_type": "code",
      "source": [
        "from bank import credit,debit"
      ],
      "metadata": {
        "id": "GCEqcH4ZfMqV"
      },
      "execution_count": null,
      "outputs": []
    },
    {
      "cell_type": "code",
      "source": [
        "# when we are trying to access module present in folder and subfolder\n",
        "# then we must follow hierarchy\n",
        "# from parent_folder.subfolder.subsubfolder import members"
      ],
      "metadata": {
        "id": "stxxIdj9c-4G"
      },
      "execution_count": null,
      "outputs": []
    },
    {
      "cell_type": "markdown",
      "source": [
        "# **Packages**"
      ],
      "metadata": {
        "id": "J2iQ-IBFiH7B"
      }
    },
    {
      "cell_type": "code",
      "source": [
        "# a folder with multiple modules present in it and it also contains __init__.py file\n",
        "# its a package"
      ],
      "metadata": {
        "id": "U1DGlmLMiKqV"
      },
      "execution_count": null,
      "outputs": []
    },
    {
      "cell_type": "code",
      "source": [
        "# Create a RBI folder\n",
        "# add 3 files sbi.py, hdfc.py, boi.py, __init__.py\n",
        "# add atleast one print statement in it\n",
        "# whenever you will run RBI package restart the session from Runtime"
      ],
      "metadata": {
        "id": "RIGBzzvQmrfs"
      },
      "execution_count": null,
      "outputs": []
    },
    {
      "cell_type": "code",
      "source": [
        "import RBI"
      ],
      "metadata": {
        "id": "9MbWLDp_jsZe"
      },
      "execution_count": null,
      "outputs": []
    },
    {
      "cell_type": "code",
      "source": [],
      "metadata": {
        "id": "ssT7joTUjtnT"
      },
      "execution_count": null,
      "outputs": []
    }
  ]
}