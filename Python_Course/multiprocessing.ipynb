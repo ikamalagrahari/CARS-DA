{
  "nbformat": 4,
  "nbformat_minor": 0,
  "metadata": {
    "colab": {
      "provenance": []
    },
    "kernelspec": {
      "name": "python3",
      "display_name": "Python 3"
    },
    "language_info": {
      "name": "python"
    }
  },
  "cells": [
    {
      "cell_type": "markdown",
      "source": [
        "# **Multiprocessing** ⚛"
      ],
      "metadata": {
        "id": "9-k04OFTwiio"
      }
    },
    {
      "cell_type": "markdown",
      "source": [
        "**Process Creation**\n",
        "> To create a process, you use the Process class from the multiprocessing module. Each process runs independently and has its own memory space.\n",
        "\n"
      ],
      "metadata": {
        "id": "VSCBuoazzoB8"
      }
    },
    {
      "cell_type": "code",
      "execution_count": null,
      "metadata": {
        "id": "6HRjAo-7g1at"
      },
      "outputs": [],
      "source": [
        "import multiprocessing\n",
        "\n",
        "def print_square(num):\n",
        "  print(f\"Square: {num * num}\")\n",
        "\n",
        "def print_cube(num):\n",
        "  print(f\"Cube: {num * num * num}\")\n",
        "\n",
        "if __name__ == \"__main__\":\n",
        "  p1 = multiprocessing.Process(target=print_square, args=(10,))\n",
        "  p2 = multiprocessing.Process(target=print_cube, args=(10,))\n",
        "\n",
        "  p1.start()\n",
        "  p2.start()\n",
        "\n",
        "  p1.join()\n",
        "  p2.join()\n",
        "\n",
        "  print(\"Done!\")"
      ]
    },
    {
      "cell_type": "code",
      "source": [
        "import multiprocessing\n",
        "import time\n",
        "\n",
        "# Task 1: Function to calculate square of numbers\n",
        "def calculate_square(numbers):\n",
        "    print(\"Calculating square of numbers:\")\n",
        "    for n in numbers:\n",
        "        time.sleep(1)  # Simulate delay\n",
        "        print(f\"Square of {n}: {n * n}\")\n",
        "\n",
        "# Task 2: Function to calculate cube of numbers\n",
        "def calculate_cube(numbers):\n",
        "    print(\"Calculating cube of numbers:\")\n",
        "    for n in numbers:\n",
        "        time.sleep(1)  # Simulate delay\n",
        "        print(f\"Cube of {n}: {n * n * n}\")\n",
        "\n",
        "if __name__ == \"__main__\":\n",
        "    numbers = [2, 3, 4, 5]\n",
        "\n",
        "    # Creating processes for each task\n",
        "    process1 = multiprocessing.Process(target=calculate_square, args=(numbers,))\n",
        "    process2 = multiprocessing.Process(target=calculate_cube, args=(numbers,))\n",
        "\n",
        "    # Starting processes\n",
        "    process1.start()\n",
        "    process2.start()\n",
        "\n",
        "    # Waiting for both processes to complete\n",
        "    process1.join()\n",
        "    process2.join()\n",
        "\n",
        "    print(\"Both processes have completed.\")\n"
      ],
      "metadata": {
        "id": "P1wCHSQGhMrw"
      },
      "execution_count": null,
      "outputs": []
    },
    {
      "cell_type": "markdown",
      "source": [
        "**Using a Pool of Workers**\n",
        "\n",
        ">The Pool class allows you to manage a pool of worker processes. It provides methods to offload tasks to the worker processes in various ways"
      ],
      "metadata": {
        "id": "SBPnIqEN0osf"
      }
    },
    {
      "cell_type": "code",
      "source": [
        "import multiprocessing\n",
        "import time\n",
        "\n",
        "def worker(num):\n",
        "    \"\"\"worker function\"\"\"\n",
        "    print(f\"Worker {num} started\\n\")\n",
        "    time.sleep(2)\n",
        "    print(f\"Worker {num} finished\\n\")\n",
        "\n",
        "if __name__ == \"__main__\":\n",
        "    # Create a pool of processes\n",
        "    pool = multiprocessing.Pool(processes=4)  # Adjust the number of processes as needed\n",
        "\n",
        "    # Apply the worker function to a range of numbers\n",
        "    pool.map(worker, range(1, 5))\n",
        "\n",
        "    # Close the pool\n",
        "    pool.close()\n",
        "    pool.join()\n",
        "\n",
        "    print(\"All processes finished\")"
      ],
      "metadata": {
        "id": "5TgJAlXshwYN"
      },
      "execution_count": null,
      "outputs": []
    }
  ]
}