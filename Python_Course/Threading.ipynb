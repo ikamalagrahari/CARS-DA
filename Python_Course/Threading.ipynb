{
  "nbformat": 4,
  "nbformat_minor": 0,
  "metadata": {
    "colab": {
      "provenance": []
    },
    "kernelspec": {
      "name": "python3",
      "display_name": "Python 3"
    },
    "language_info": {
      "name": "python"
    }
  },
  "cells": [
    {
      "cell_type": "markdown",
      "source": [
        "# **Threading** ➰"
      ],
      "metadata": {
        "id": "Gt-GmN1bViRc"
      }
    },
    {
      "cell_type": "markdown",
      "source": [
        "# **Example:1**"
      ],
      "metadata": {
        "id": "ZIXooiPnVeJU"
      }
    },
    {
      "cell_type": "code",
      "source": [
        "%%time\n",
        "import time\n",
        "import random\n",
        "import math\n",
        "\n",
        "# Define the I/O-bound task: Simulate downloading data\n",
        "def download_data(file_id):\n",
        "    print(f\"Starting download for file {file_id}...\\n\")\n",
        "    # Simulate network delay with sleep\n",
        "    time.sleep(random.uniform(1, 3))\n",
        "    print(f\"Download completed for file {file_id}.\\n\")\n",
        "    time.sleep(1)\n",
        "\n",
        "# Define the CPU-bound task: Calculate factorial of a number\n",
        "def calculate_factorial(number):\n",
        "    print(f\"Starting factorial calculation for {number}...\\n\")\n",
        "    factorial = math.factorial(number)\n",
        "    print(f\"Factorial of {number} is {factorial}.\\n\")\n",
        "    time.sleep(1)\n",
        "\n",
        "\n",
        "# Adding threads for I/O-bound tasks (download simulation)\n",
        "# normal execution\n",
        "for file_id in range(1, 4):  # Create 3 download tasks\n",
        "   download_data(file_id)\n",
        "\n",
        "# Adding threads for CPU-bound tasks (factorial calculation)\n",
        "numbers = [5, 7, 10]  # Sample numbers to calculate factorial for\n",
        "# normal execution\n",
        "for number in numbers:\n",
        "   calculate_factorial(number)\n",
        "\n",
        "print(\"All tasks completed.\")"
      ],
      "metadata": {
        "id": "HjX5qaty6Hfr",
        "colab": {
          "base_uri": "https://localhost:8080/"
        },
        "outputId": "35dfcd9c-cb57-4e02-c134-d386937a3bc5"
      },
      "execution_count": 1,
      "outputs": [
        {
          "output_type": "stream",
          "name": "stdout",
          "text": [
            "Starting download for file 1...\n",
            "\n",
            "Download completed for file 1.\n",
            "\n",
            "Starting download for file 2...\n",
            "\n",
            "Download completed for file 2.\n",
            "\n",
            "Starting download for file 3...\n",
            "\n",
            "Download completed for file 3.\n",
            "\n",
            "Starting factorial calculation for 5...\n",
            "\n",
            "Factorial of 5 is 120.\n",
            "\n",
            "Starting factorial calculation for 7...\n",
            "\n",
            "Factorial of 7 is 5040.\n",
            "\n",
            "Starting factorial calculation for 10...\n",
            "\n",
            "Factorial of 10 is 3628800.\n",
            "\n",
            "All tasks completed.\n",
            "CPU times: user 73 ms, sys: 6.44 ms, total: 79.5 ms\n",
            "Wall time: 12.4 s\n"
          ]
        }
      ]
    },
    {
      "cell_type": "code",
      "execution_count": 2,
      "metadata": {
        "id": "mjluVZDf5ExB",
        "colab": {
          "base_uri": "https://localhost:8080/"
        },
        "outputId": "29d54ac4-876b-455e-ce35-feec871fe389"
      },
      "outputs": [
        {
          "output_type": "stream",
          "name": "stdout",
          "text": [
            "Starting download for file 1...\n",
            "Starting download for file 2...\n",
            "\n",
            "\n",
            "Starting download for file 3...\n",
            "Starting factorial calculation for 5...\n",
            "\n",
            "Factorial of 5 is 120.\n",
            "\n",
            "Starting factorial calculation for 7...\n",
            "\n",
            "\n",
            "Factorial of 7 is 5040.\n",
            "\n",
            "Starting factorial calculation for 10...\n",
            "\n",
            "Factorial of 10 is 3628800.\n",
            "\n",
            "Download completed for file 2.\n",
            "\n",
            "Download completed for file 1.\n",
            "\n",
            "Download completed for file 3.\n",
            "\n",
            "All tasks completed.\n",
            "CPU times: user 26.1 ms, sys: 7.36 ms, total: 33.5 ms\n",
            "Wall time: 2.9 s\n"
          ]
        }
      ],
      "source": [
        "%%time\n",
        "import threading\n",
        "import time\n",
        "import random\n",
        "import math\n",
        "\n",
        "# Define the I/O-bound task: Simulate downloading data\n",
        "def download_data(file_id):\n",
        "    print(f\"Starting download for file {file_id}...\\n\")\n",
        "    # Simulate network delay with sleep\n",
        "    time.sleep(random.uniform(1, 3))\n",
        "    print(f\"Download completed for file {file_id}.\\n\")\n",
        "    time.sleep(1)\n",
        "\n",
        "# Define the CPU-bound task: Calculate factorial of a number\n",
        "def calculate_factorial(number):\n",
        "    print(f\"Starting factorial calculation for {number}...\\n\")\n",
        "    factorial = math.factorial(number)\n",
        "    print(f\"Factorial of {number} is {factorial}.\\n\")\n",
        "    time.sleep(1)\n",
        "\n",
        "# Create multiple threads for each task\n",
        "threads = []\n",
        "\n",
        "# Adding threads for I/O-bound tasks (download simulation)\n",
        "for file_id in range(1, 4):  # Create 3 download tasks\n",
        "    thread = threading.Thread(target=download_data, args=(file_id,))\n",
        "    threads.append(thread)\n",
        "\n",
        "# Adding threads for CPU-bound tasks (factorial calculation)\n",
        "numbers = [5, 7, 10]  # Sample numbers to calculate factorial for\n",
        "for number in numbers:\n",
        "    thread = threading.Thread(target=calculate_factorial, args=(number,))\n",
        "    threads.append(thread)\n",
        "\n",
        "# Start all threads\n",
        "for thread in threads:\n",
        "    thread.start()\n",
        "\n",
        "# Wait for all threads to complete\n",
        "for thread in threads:\n",
        "    thread.join()\n",
        "\n",
        "print(\"All tasks completed.\")"
      ]
    },
    {
      "cell_type": "markdown",
      "source": [
        "# **Example: 2**"
      ],
      "metadata": {
        "id": "wRBXcqOo-Wpx"
      }
    },
    {
      "cell_type": "code",
      "source": [
        "import threading\n",
        "import time\n",
        "\n",
        "# Task 1: Function to print numbers\n",
        "def print_numbers():\n",
        "    for i in range(1, 6):\n",
        "        print(f\"Number: {i}\")\n",
        "        time.sleep(1)  # Simulate a delay\n",
        "\n",
        "# Task 2: Function to print letters\n",
        "def print_letters():\n",
        "    for letter in ['A', 'B', 'C', 'D', 'E']:\n",
        "        print(f\"Letter: {letter}\")\n",
        "        time.sleep(1.5)  # Simulate a delay\n",
        "\n",
        "# Task 3: Function to print a message\n",
        "def print_message():\n",
        "    for i in range(1, 4):\n",
        "        print(f\"Message {i}: Hello from a thread!\")\n",
        "        time.sleep(2)  # Simulate a delay\n",
        "\n",
        "# Create threads for each task\n",
        "thread1 = threading.Thread(target=print_numbers)\n",
        "thread2 = threading.Thread(target=print_letters)\n",
        "thread3 = threading.Thread(target=print_message)\n",
        "\n",
        "# Start the threads\n",
        "thread1.start()\n",
        "thread2.start()\n",
        "thread3.start()\n",
        "\n",
        "# Wait for all threads to complete\n",
        "thread1.join()\n",
        "thread2.join()\n",
        "thread3.join()\n",
        "\n",
        "print(\"All tasks completed.\")"
      ],
      "metadata": {
        "id": "FFiVshjl51jG",
        "colab": {
          "base_uri": "https://localhost:8080/"
        },
        "outputId": "6fbe44c8-a4a0-4437-bc2d-1b007a3f9b48"
      },
      "execution_count": 3,
      "outputs": [
        {
          "output_type": "stream",
          "name": "stdout",
          "text": [
            "Number: 1\n",
            "Letter: A\n",
            "Message 1: Hello from a thread!\n",
            "Number: 2\n",
            "Letter: B\n",
            "Number: 3\n",
            "Message 2: Hello from a thread!\n",
            "Number: 4\n",
            "Letter: C\n",
            "Number: 5Message 3: Hello from a thread!\n",
            "\n",
            "Letter: D\n",
            "Letter: E\n",
            "All tasks completed.\n"
          ]
        }
      ]
    },
    {
      "cell_type": "code",
      "source": [],
      "metadata": {
        "id": "0xa2RsEN-hxQ"
      },
      "execution_count": null,
      "outputs": []
    }
  ]
}